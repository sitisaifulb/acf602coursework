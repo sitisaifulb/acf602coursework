{
 "cells": [
  {
   "cell_type": "code",
   "execution_count": 100,
   "metadata": {},
   "outputs": [],
   "source": [
    "import pandas as pd\n",
    "import numpy as np\n",
    "import datetime as dt\n",
    "import wrds\n",
    "#import psycopg2 \n",
    "import matplotlib.pyplot as plt\n",
    "from dateutil.relativedelta import *\n",
    "from pandas.tseries.offsets import *\n",
    "from scipy import stats"
   ]
  },
  {
   "cell_type": "code",
   "execution_count": 101,
   "metadata": {},
   "outputs": [
    {
     "name": "stdout",
     "output_type": "stream",
     "text": [
      "Enter your WRDS username [sitisaifulbahri]:ssaifulb\n",
      "Enter your password:········\n",
      "WRDS recommends setting up a .pgpass file.\n",
      "You can find more info here:\n",
      "https://www.postgresql.org/docs/9.5/static/libpq-pgpass.html.\n",
      "Loading library list...\n"
     ]
    },
    {
     "name": "stderr",
     "output_type": "stream",
     "text": [
      "Exception during reset or similar\n",
      "Traceback (most recent call last):\n",
      "  File \"/anaconda3/lib/python3.7/site-packages/sqlalchemy/pool.py\", line 709, in _finalize_fairy\n",
      "    fairy._reset(pool)\n",
      "  File \"/anaconda3/lib/python3.7/site-packages/sqlalchemy/pool.py\", line 880, in _reset\n",
      "    pool._dialect.do_rollback(self)\n",
      "  File \"/anaconda3/lib/python3.7/site-packages/sqlalchemy/engine/default.py\", line 459, in do_rollback\n",
      "    dbapi_connection.rollback()\n",
      "psycopg2.OperationalError: server closed the connection unexpectedly\n",
      "\tThis probably means the server terminated abnormally\n",
      "\tbefore or while processing the request.\n",
      "\n"
     ]
    },
    {
     "name": "stdout",
     "output_type": "stream",
     "text": [
      "Done\n"
     ]
    }
   ],
   "source": [
    "conn = wrds.Connection()"
   ]
  },
  {
   "cell_type": "code",
   "execution_count": 102,
   "metadata": {},
   "outputs": [],
   "source": [
    "# Didnt end up using this in a code\n",
    "COMPUSTAT_BEG_DATE = '01/01/2008'\n",
    "CRSP_BEG_DATE = '01/01/2008'\n",
    "CRSP_END_DATE = '12/31/2018'"
   ]
  },
  {
   "cell_type": "code",
   "execution_count": 103,
   "metadata": {},
   "outputs": [
    {
     "data": {
      "text/plain": [
       "50"
      ]
     },
     "execution_count": 103,
     "metadata": {},
     "output_type": "execute_result"
    }
   ],
   "source": [
    "#didnt end up using this in a code\n",
    "companies = ('10107', '11308', '11850', '12490', '13407', '14008', '14541', '14542', '14593', '17778', '17830', \n",
    "            '18163', '19561', '20482', '21936', '22111', '22592', '22752', '26201', '26403', '43449', '47896', \n",
    "            '48725', '50876', '55976', '57665', '59328', '59555', '65875', '76076', '76127', '80341', '80539', \n",
    "            '82287', '83950', '84788', '86580', '86889', '88545', '89036', '89110', '89393', '90215', '90783',\n",
    "            '91086', '91233', '91571', '92602', '92611', '92655')\n",
    "len(companies)"
   ]
  },
  {
   "cell_type": "code",
   "execution_count": 104,
   "metadata": {},
   "outputs": [],
   "source": [
    "libraries = conn.list_libraries()\n",
    "library = \"crsp\"\n",
    "\n",
    "tables = conn.list_tables(library = library)"
   ]
  },
  {
   "cell_type": "code",
   "execution_count": 107,
   "metadata": {},
   "outputs": [
    {
     "data": {
      "text/html": [
       "<div>\n",
       "<style scoped>\n",
       "    .dataframe tbody tr th:only-of-type {\n",
       "        vertical-align: middle;\n",
       "    }\n",
       "\n",
       "    .dataframe tbody tr th {\n",
       "        vertical-align: top;\n",
       "    }\n",
       "\n",
       "    .dataframe thead th {\n",
       "        text-align: right;\n",
       "    }\n",
       "</style>\n",
       "<table border=\"1\" class=\"dataframe\">\n",
       "  <thead>\n",
       "    <tr style=\"text-align: right;\">\n",
       "      <th></th>\n",
       "      <th>date</th>\n",
       "      <th>permno</th>\n",
       "      <th>ret</th>\n",
       "      <th>prc</th>\n",
       "    </tr>\n",
       "  </thead>\n",
       "  <tbody>\n",
       "    <tr>\n",
       "      <th>0</th>\n",
       "      <td>2008-01-31</td>\n",
       "      <td>10107.0</td>\n",
       "      <td>-0.084270</td>\n",
       "      <td>32.599998</td>\n",
       "    </tr>\n",
       "    <tr>\n",
       "      <th>1</th>\n",
       "      <td>2008-02-29</td>\n",
       "      <td>10107.0</td>\n",
       "      <td>-0.162273</td>\n",
       "      <td>27.199900</td>\n",
       "    </tr>\n",
       "    <tr>\n",
       "      <th>2</th>\n",
       "      <td>2008-03-31</td>\n",
       "      <td>10107.0</td>\n",
       "      <td>0.043386</td>\n",
       "      <td>28.379999</td>\n",
       "    </tr>\n",
       "    <tr>\n",
       "      <th>3</th>\n",
       "      <td>2008-04-30</td>\n",
       "      <td>10107.0</td>\n",
       "      <td>0.004933</td>\n",
       "      <td>28.520000</td>\n",
       "    </tr>\n",
       "    <tr>\n",
       "      <th>4</th>\n",
       "      <td>2008-05-30</td>\n",
       "      <td>10107.0</td>\n",
       "      <td>-0.003156</td>\n",
       "      <td>28.320000</td>\n",
       "    </tr>\n",
       "  </tbody>\n",
       "</table>\n",
       "</div>"
      ],
      "text/plain": [
       "         date   permno       ret        prc\n",
       "0  2008-01-31  10107.0 -0.084270  32.599998\n",
       "1  2008-02-29  10107.0 -0.162273  27.199900\n",
       "2  2008-03-31  10107.0  0.043386  28.379999\n",
       "3  2008-04-30  10107.0  0.004933  28.520000\n",
       "4  2008-05-30  10107.0 -0.003156  28.320000"
      ]
     },
     "execution_count": 107,
     "metadata": {},
     "output_type": "execute_result"
    }
   ],
   "source": [
    "stmt = \"\"\"\n",
    "SELECT date, permno, ret, prc\n",
    "FROM crsp.msf \n",
    "WHERE permno IN {}\n",
    "and date >= '01/01/2008'\n",
    "and date < '12/31/2018'\n",
    "\"\"\".format(companies)\n",
    "\n",
    "data=conn.raw_sql(stmt)\n",
    "data.head()"
   ]
  },
  {
   "cell_type": "code",
   "execution_count": 108,
   "metadata": {},
   "outputs": [],
   "source": [
    "#rotate the table\n",
    "df=data\n",
    "table=df.pivot(index='date', columns='permno', values='ret')"
   ]
  },
  {
   "cell_type": "code",
   "execution_count": 110,
   "metadata": {},
   "outputs": [
    {
     "data": {
      "text/html": [
       "<div>\n",
       "<style scoped>\n",
       "    .dataframe tbody tr th:only-of-type {\n",
       "        vertical-align: middle;\n",
       "    }\n",
       "\n",
       "    .dataframe tbody tr th {\n",
       "        vertical-align: top;\n",
       "    }\n",
       "\n",
       "    .dataframe thead th {\n",
       "        text-align: right;\n",
       "    }\n",
       "</style>\n",
       "<table border=\"1\" class=\"dataframe\">\n",
       "  <thead>\n",
       "    <tr style=\"text-align: right;\">\n",
       "      <th>permno</th>\n",
       "      <th>10107.0</th>\n",
       "      <th>11308.0</th>\n",
       "      <th>11850.0</th>\n",
       "      <th>12490.0</th>\n",
       "      <th>13407.0</th>\n",
       "      <th>14008.0</th>\n",
       "      <th>14541.0</th>\n",
       "      <th>14542.0</th>\n",
       "      <th>14593.0</th>\n",
       "      <th>17778.0</th>\n",
       "      <th>...</th>\n",
       "      <th>89110.0</th>\n",
       "      <th>89393.0</th>\n",
       "      <th>90215.0</th>\n",
       "      <th>90783.0</th>\n",
       "      <th>91086.0</th>\n",
       "      <th>91233.0</th>\n",
       "      <th>91571.0</th>\n",
       "      <th>92602.0</th>\n",
       "      <th>92611.0</th>\n",
       "      <th>92655.0</th>\n",
       "    </tr>\n",
       "    <tr>\n",
       "      <th>date</th>\n",
       "      <th></th>\n",
       "      <th></th>\n",
       "      <th></th>\n",
       "      <th></th>\n",
       "      <th></th>\n",
       "      <th></th>\n",
       "      <th></th>\n",
       "      <th></th>\n",
       "      <th></th>\n",
       "      <th></th>\n",
       "      <th></th>\n",
       "      <th></th>\n",
       "      <th></th>\n",
       "      <th></th>\n",
       "      <th></th>\n",
       "      <th></th>\n",
       "      <th></th>\n",
       "      <th></th>\n",
       "      <th></th>\n",
       "      <th></th>\n",
       "      <th></th>\n",
       "    </tr>\n",
       "  </thead>\n",
       "  <tbody>\n",
       "    <tr>\n",
       "      <th>2008-01-31</th>\n",
       "      <td>-0.084270</td>\n",
       "      <td>-0.038618</td>\n",
       "      <td>-0.077810</td>\n",
       "      <td>-0.009158</td>\n",
       "      <td>NaN</td>\n",
       "      <td>0.003230</td>\n",
       "      <td>-0.108004</td>\n",
       "      <td>NaN</td>\n",
       "      <td>-0.316640</td>\n",
       "      <td>-0.039548</td>\n",
       "      <td>...</td>\n",
       "      <td>-0.068697</td>\n",
       "      <td>-0.055222</td>\n",
       "      <td>-0.171957</td>\n",
       "      <td>-0.434795</td>\n",
       "      <td>0.154827</td>\n",
       "      <td>-0.037407</td>\n",
       "      <td>0.474308</td>\n",
       "      <td>NaN</td>\n",
       "      <td>NaN</td>\n",
       "      <td>-0.126460</td>\n",
       "    </tr>\n",
       "    <tr>\n",
       "      <th>2008-02-29</th>\n",
       "      <td>-0.162273</td>\n",
       "      <td>-0.009153</td>\n",
       "      <td>0.011111</td>\n",
       "      <td>0.066754</td>\n",
       "      <td>NaN</td>\n",
       "      <td>-0.022966</td>\n",
       "      <td>0.047928</td>\n",
       "      <td>NaN</td>\n",
       "      <td>-0.076389</td>\n",
       "      <td>0.029412</td>\n",
       "      <td>...</td>\n",
       "      <td>-0.242424</td>\n",
       "      <td>0.255666</td>\n",
       "      <td>0.150453</td>\n",
       "      <td>0.115857</td>\n",
       "      <td>-0.194006</td>\n",
       "      <td>-0.082126</td>\n",
       "      <td>0.001340</td>\n",
       "      <td>NaN</td>\n",
       "      <td>NaN</td>\n",
       "      <td>-0.085759</td>\n",
       "    </tr>\n",
       "    <tr>\n",
       "      <th>2008-03-31</th>\n",
       "      <td>0.043386</td>\n",
       "      <td>0.047725</td>\n",
       "      <td>-0.027928</td>\n",
       "      <td>0.011242</td>\n",
       "      <td>NaN</td>\n",
       "      <td>-0.082162</td>\n",
       "      <td>-0.015001</td>\n",
       "      <td>NaN</td>\n",
       "      <td>0.147816</td>\n",
       "      <td>-0.047143</td>\n",
       "      <td>...</td>\n",
       "      <td>0.057895</td>\n",
       "      <td>0.097213</td>\n",
       "      <td>-0.030978</td>\n",
       "      <td>-0.358117</td>\n",
       "      <td>-0.121820</td>\n",
       "      <td>0.173632</td>\n",
       "      <td>0.194110</td>\n",
       "      <td>NaN</td>\n",
       "      <td>NaN</td>\n",
       "      <td>-0.260112</td>\n",
       "    </tr>\n",
       "    <tr>\n",
       "      <th>2008-04-30</th>\n",
       "      <td>0.004933</td>\n",
       "      <td>-0.032857</td>\n",
       "      <td>0.100378</td>\n",
       "      <td>0.048289</td>\n",
       "      <td>NaN</td>\n",
       "      <td>0.002154</td>\n",
       "      <td>0.126406</td>\n",
       "      <td>NaN</td>\n",
       "      <td>0.212195</td>\n",
       "      <td>0.003373</td>\n",
       "      <td>...</td>\n",
       "      <td>-0.401990</td>\n",
       "      <td>-0.077056</td>\n",
       "      <td>0.153102</td>\n",
       "      <td>0.283071</td>\n",
       "      <td>0.172702</td>\n",
       "      <td>0.248083</td>\n",
       "      <td>0.054933</td>\n",
       "      <td>0.008897</td>\n",
       "      <td>0.338197</td>\n",
       "      <td>-0.050349</td>\n",
       "    </tr>\n",
       "    <tr>\n",
       "      <th>2008-05-30</th>\n",
       "      <td>-0.003156</td>\n",
       "      <td>-0.027348</td>\n",
       "      <td>-0.042011</td>\n",
       "      <td>0.076471</td>\n",
       "      <td>NaN</td>\n",
       "      <td>0.051588</td>\n",
       "      <td>0.037962</td>\n",
       "      <td>NaN</td>\n",
       "      <td>0.085082</td>\n",
       "      <td>0.005977</td>\n",
       "      <td>...</td>\n",
       "      <td>0.104825</td>\n",
       "      <td>-0.050657</td>\n",
       "      <td>0.083620</td>\n",
       "      <td>-0.084936</td>\n",
       "      <td>0.024228</td>\n",
       "      <td>0.109613</td>\n",
       "      <td>0.142402</td>\n",
       "      <td>0.031942</td>\n",
       "      <td>0.034871</td>\n",
       "      <td>0.048422</td>\n",
       "    </tr>\n",
       "  </tbody>\n",
       "</table>\n",
       "<p>5 rows × 50 columns</p>\n",
       "</div>"
      ],
      "text/plain": [
       "permno       10107.0   11308.0   11850.0   12490.0  13407.0   14008.0  \\\n",
       "date                                                                    \n",
       "2008-01-31 -0.084270 -0.038618 -0.077810 -0.009158      NaN  0.003230   \n",
       "2008-02-29 -0.162273 -0.009153  0.011111  0.066754      NaN -0.022966   \n",
       "2008-03-31  0.043386  0.047725 -0.027928  0.011242      NaN -0.082162   \n",
       "2008-04-30  0.004933 -0.032857  0.100378  0.048289      NaN  0.002154   \n",
       "2008-05-30 -0.003156 -0.027348 -0.042011  0.076471      NaN  0.051588   \n",
       "\n",
       "permno       14541.0  14542.0   14593.0   17778.0    ...      89110.0  \\\n",
       "date                                                 ...                \n",
       "2008-01-31 -0.108004      NaN -0.316640 -0.039548    ...    -0.068697   \n",
       "2008-02-29  0.047928      NaN -0.076389  0.029412    ...    -0.242424   \n",
       "2008-03-31 -0.015001      NaN  0.147816 -0.047143    ...     0.057895   \n",
       "2008-04-30  0.126406      NaN  0.212195  0.003373    ...    -0.401990   \n",
       "2008-05-30  0.037962      NaN  0.085082  0.005977    ...     0.104825   \n",
       "\n",
       "permno       89393.0   90215.0   90783.0   91086.0   91233.0   91571.0  \\\n",
       "date                                                                     \n",
       "2008-01-31 -0.055222 -0.171957 -0.434795  0.154827 -0.037407  0.474308   \n",
       "2008-02-29  0.255666  0.150453  0.115857 -0.194006 -0.082126  0.001340   \n",
       "2008-03-31  0.097213 -0.030978 -0.358117 -0.121820  0.173632  0.194110   \n",
       "2008-04-30 -0.077056  0.153102  0.283071  0.172702  0.248083  0.054933   \n",
       "2008-05-30 -0.050657  0.083620 -0.084936  0.024228  0.109613  0.142402   \n",
       "\n",
       "permno       92602.0   92611.0   92655.0  \n",
       "date                                      \n",
       "2008-01-31       NaN       NaN -0.126460  \n",
       "2008-02-29       NaN       NaN -0.085759  \n",
       "2008-03-31       NaN       NaN -0.260112  \n",
       "2008-04-30  0.008897  0.338197 -0.050349  \n",
       "2008-05-30  0.031942  0.034871  0.048422  \n",
       "\n",
       "[5 rows x 50 columns]"
      ]
     },
     "execution_count": 110,
     "metadata": {},
     "output_type": "execute_result"
    }
   ],
   "source": [
    "table.head()"
   ]
  },
  {
   "cell_type": "code",
   "execution_count": 61,
   "metadata": {},
   "outputs": [],
   "source": [
    "mrets=table"
   ]
  },
  {
   "cell_type": "code",
   "execution_count": 62,
   "metadata": {},
   "outputs": [
    {
     "data": {
      "text/plain": [
       "permno\n",
       "10107.0    0.220215\n",
       "11308.0    0.117965\n",
       "11850.0    0.041765\n",
       "12490.0    0.085643\n",
       "13407.0    0.304699\n",
       "14008.0    0.171767\n",
       "14541.0    0.096917\n",
       "14542.0    0.179502\n",
       "14593.0    0.308556\n",
       "17778.0    0.126704\n",
       "17830.0    0.134892\n",
       "18163.0    0.081335\n",
       "19561.0    0.268807\n",
       "20482.0    0.152229\n",
       "21936.0    0.158852\n",
       "22111.0    0.132368\n",
       "22592.0    0.158690\n",
       "22752.0    0.165140\n",
       "26201.0    0.057946\n",
       "26403.0    0.201532\n",
       "43449.0    0.157802\n",
       "47896.0    0.183341\n",
       "48725.0    0.225656\n",
       "50876.0    0.179977\n",
       "55976.0    0.095918\n",
       "57665.0    0.212711\n",
       "59328.0    0.184129\n",
       "59555.0    0.070447\n",
       "65875.0    0.132357\n",
       "76076.0    0.159316\n",
       "76127.0    0.109595\n",
       "80341.0    0.260138\n",
       "80539.0    0.418066\n",
       "82287.0    0.397372\n",
       "83950.0    0.440270\n",
       "84788.0    0.416010\n",
       "86580.0    0.410283\n",
       "86889.0    0.374106\n",
       "88545.0    0.147213\n",
       "89036.0    0.173963\n",
       "89110.0    0.237208\n",
       "89393.0    0.621494\n",
       "90215.0    0.349132\n",
       "90783.0    0.168385\n",
       "91086.0    0.112915\n",
       "91233.0    0.291989\n",
       "91571.0    0.197539\n",
       "92602.0    0.138171\n",
       "92611.0    0.264973\n",
       "92655.0    0.301015\n",
       "dtype: float64"
      ]
     },
     "execution_count": 62,
     "metadata": {},
     "output_type": "execute_result"
    }
   ],
   "source": [
    "mrets.mean() * 12"
   ]
  },
  {
   "cell_type": "code",
   "execution_count": 65,
   "metadata": {},
   "outputs": [
    {
     "data": {
      "text/html": [
       "<div>\n",
       "<style scoped>\n",
       "    .dataframe tbody tr th:only-of-type {\n",
       "        vertical-align: middle;\n",
       "    }\n",
       "\n",
       "    .dataframe tbody tr th {\n",
       "        vertical-align: top;\n",
       "    }\n",
       "\n",
       "    .dataframe thead th {\n",
       "        text-align: right;\n",
       "    }\n",
       "</style>\n",
       "<table border=\"1\" class=\"dataframe\">\n",
       "  <thead>\n",
       "    <tr style=\"text-align: right;\">\n",
       "      <th>permno</th>\n",
       "      <th>10107.0</th>\n",
       "      <th>11308.0</th>\n",
       "      <th>11850.0</th>\n",
       "      <th>12490.0</th>\n",
       "      <th>13407.0</th>\n",
       "      <th>14008.0</th>\n",
       "      <th>14541.0</th>\n",
       "      <th>14542.0</th>\n",
       "      <th>14593.0</th>\n",
       "      <th>17778.0</th>\n",
       "      <th>...</th>\n",
       "      <th>89110.0</th>\n",
       "      <th>89393.0</th>\n",
       "      <th>90215.0</th>\n",
       "      <th>90783.0</th>\n",
       "      <th>91086.0</th>\n",
       "      <th>91233.0</th>\n",
       "      <th>91571.0</th>\n",
       "      <th>92602.0</th>\n",
       "      <th>92611.0</th>\n",
       "      <th>92655.0</th>\n",
       "    </tr>\n",
       "    <tr>\n",
       "      <th>permno</th>\n",
       "      <th></th>\n",
       "      <th></th>\n",
       "      <th></th>\n",
       "      <th></th>\n",
       "      <th></th>\n",
       "      <th></th>\n",
       "      <th></th>\n",
       "      <th></th>\n",
       "      <th></th>\n",
       "      <th></th>\n",
       "      <th></th>\n",
       "      <th></th>\n",
       "      <th></th>\n",
       "      <th></th>\n",
       "      <th></th>\n",
       "      <th></th>\n",
       "      <th></th>\n",
       "      <th></th>\n",
       "      <th></th>\n",
       "      <th></th>\n",
       "      <th></th>\n",
       "    </tr>\n",
       "  </thead>\n",
       "  <tbody>\n",
       "    <tr>\n",
       "      <th>10107.0</th>\n",
       "      <td>0.048472</td>\n",
       "      <td>0.010357</td>\n",
       "      <td>0.010711</td>\n",
       "      <td>0.012258</td>\n",
       "      <td>-0.001143</td>\n",
       "      <td>0.011809</td>\n",
       "      <td>0.018684</td>\n",
       "      <td>0.012025</td>\n",
       "      <td>0.022912</td>\n",
       "      <td>0.007254</td>\n",
       "      <td>...</td>\n",
       "      <td>0.015673</td>\n",
       "      <td>0.024041</td>\n",
       "      <td>0.026994</td>\n",
       "      <td>0.012109</td>\n",
       "      <td>0.012090</td>\n",
       "      <td>0.016466</td>\n",
       "      <td>0.014330</td>\n",
       "      <td>0.013457</td>\n",
       "      <td>0.016572</td>\n",
       "      <td>0.005162</td>\n",
       "    </tr>\n",
       "    <tr>\n",
       "      <th>11308.0</th>\n",
       "      <td>0.010357</td>\n",
       "      <td>0.020806</td>\n",
       "      <td>0.008395</td>\n",
       "      <td>0.004854</td>\n",
       "      <td>0.000389</td>\n",
       "      <td>0.006540</td>\n",
       "      <td>0.010974</td>\n",
       "      <td>0.004017</td>\n",
       "      <td>0.007831</td>\n",
       "      <td>0.005289</td>\n",
       "      <td>...</td>\n",
       "      <td>0.006752</td>\n",
       "      <td>-0.006719</td>\n",
       "      <td>0.002924</td>\n",
       "      <td>0.001816</td>\n",
       "      <td>0.005390</td>\n",
       "      <td>0.007671</td>\n",
       "      <td>0.002521</td>\n",
       "      <td>0.018756</td>\n",
       "      <td>0.005909</td>\n",
       "      <td>0.003553</td>\n",
       "    </tr>\n",
       "    <tr>\n",
       "      <th>11850.0</th>\n",
       "      <td>0.010711</td>\n",
       "      <td>0.008395</td>\n",
       "      <td>0.024610</td>\n",
       "      <td>0.009900</td>\n",
       "      <td>0.000268</td>\n",
       "      <td>0.006490</td>\n",
       "      <td>0.022947</td>\n",
       "      <td>0.001190</td>\n",
       "      <td>0.005612</td>\n",
       "      <td>0.007720</td>\n",
       "      <td>...</td>\n",
       "      <td>0.009203</td>\n",
       "      <td>0.002248</td>\n",
       "      <td>0.004972</td>\n",
       "      <td>0.025868</td>\n",
       "      <td>0.009490</td>\n",
       "      <td>0.009492</td>\n",
       "      <td>0.008789</td>\n",
       "      <td>0.011711</td>\n",
       "      <td>0.006739</td>\n",
       "      <td>0.011498</td>\n",
       "    </tr>\n",
       "    <tr>\n",
       "      <th>12490.0</th>\n",
       "      <td>0.012258</td>\n",
       "      <td>0.004854</td>\n",
       "      <td>0.009900</td>\n",
       "      <td>0.033001</td>\n",
       "      <td>0.000082</td>\n",
       "      <td>0.008719</td>\n",
       "      <td>0.014175</td>\n",
       "      <td>0.004485</td>\n",
       "      <td>0.015522</td>\n",
       "      <td>0.008414</td>\n",
       "      <td>...</td>\n",
       "      <td>0.007436</td>\n",
       "      <td>0.015839</td>\n",
       "      <td>0.016787</td>\n",
       "      <td>0.032263</td>\n",
       "      <td>0.007267</td>\n",
       "      <td>0.012511</td>\n",
       "      <td>0.003401</td>\n",
       "      <td>0.007289</td>\n",
       "      <td>0.008594</td>\n",
       "      <td>0.010532</td>\n",
       "    </tr>\n",
       "    <tr>\n",
       "      <th>13407.0</th>\n",
       "      <td>-0.001143</td>\n",
       "      <td>0.000389</td>\n",
       "      <td>0.000268</td>\n",
       "      <td>0.000082</td>\n",
       "      <td>0.088452</td>\n",
       "      <td>0.007216</td>\n",
       "      <td>-0.000292</td>\n",
       "      <td>0.009407</td>\n",
       "      <td>0.004348</td>\n",
       "      <td>0.000076</td>\n",
       "      <td>...</td>\n",
       "      <td>0.004361</td>\n",
       "      <td>0.035900</td>\n",
       "      <td>0.019611</td>\n",
       "      <td>0.004479</td>\n",
       "      <td>0.023952</td>\n",
       "      <td>0.012795</td>\n",
       "      <td>0.017625</td>\n",
       "      <td>0.000296</td>\n",
       "      <td>0.008503</td>\n",
       "      <td>0.005400</td>\n",
       "    </tr>\n",
       "  </tbody>\n",
       "</table>\n",
       "<p>5 rows × 50 columns</p>\n",
       "</div>"
      ],
      "text/plain": [
       "permno    10107.0   11308.0   11850.0   12490.0   13407.0   14008.0   14541.0  \\\n",
       "permno                                                                          \n",
       "10107.0  0.048472  0.010357  0.010711  0.012258 -0.001143  0.011809  0.018684   \n",
       "11308.0  0.010357  0.020806  0.008395  0.004854  0.000389  0.006540  0.010974   \n",
       "11850.0  0.010711  0.008395  0.024610  0.009900  0.000268  0.006490  0.022947   \n",
       "12490.0  0.012258  0.004854  0.009900  0.033001  0.000082  0.008719  0.014175   \n",
       "13407.0 -0.001143  0.000389  0.000268  0.000082  0.088452  0.007216 -0.000292   \n",
       "\n",
       "permno    14542.0   14593.0   17778.0    ...      89110.0   89393.0   90215.0  \\\n",
       "permno                                   ...                                    \n",
       "10107.0  0.012025  0.022912  0.007254    ...     0.015673  0.024041  0.026994   \n",
       "11308.0  0.004017  0.007831  0.005289    ...     0.006752 -0.006719  0.002924   \n",
       "11850.0  0.001190  0.005612  0.007720    ...     0.009203  0.002248  0.004972   \n",
       "12490.0  0.004485  0.015522  0.008414    ...     0.007436  0.015839  0.016787   \n",
       "13407.0  0.009407  0.004348  0.000076    ...     0.004361  0.035900  0.019611   \n",
       "\n",
       "permno    90783.0   91086.0   91233.0   91571.0   92602.0   92611.0   92655.0  \n",
       "permno                                                                         \n",
       "10107.0  0.012109  0.012090  0.016466  0.014330  0.013457  0.016572  0.005162  \n",
       "11308.0  0.001816  0.005390  0.007671  0.002521  0.018756  0.005909  0.003553  \n",
       "11850.0  0.025868  0.009490  0.009492  0.008789  0.011711  0.006739  0.011498  \n",
       "12490.0  0.032263  0.007267  0.012511  0.003401  0.007289  0.008594  0.010532  \n",
       "13407.0  0.004479  0.023952  0.012795  0.017625  0.000296  0.008503  0.005400  \n",
       "\n",
       "[5 rows x 50 columns]"
      ]
     },
     "execution_count": 65,
     "metadata": {},
     "output_type": "execute_result"
    }
   ],
   "source": [
    "mrets.fillna(value=0, inplace=True)\n",
    "Mcov=mrets.cov()*12\n",
    "Mcov.head()"
   ]
  },
  {
   "cell_type": "code",
   "execution_count": 66,
   "metadata": {},
   "outputs": [],
   "source": [
    "noa = 50\n",
    "weights = np.random.random(noa)\n",
    "# random weight\n",
    "weights /= np.sum(weights)"
   ]
  },
  {
   "cell_type": "code",
   "execution_count": 67,
   "metadata": {},
   "outputs": [
    {
     "data": {
      "text/plain": [
       "0.21987246851149186"
      ]
     },
     "execution_count": 67,
     "metadata": {},
     "output_type": "execute_result"
    }
   ],
   "source": [
    "np.sum(mrets.mean() * weights) * 12\n",
    "## expected portfolio return"
   ]
  },
  {
   "cell_type": "code",
   "execution_count": 68,
   "metadata": {},
   "outputs": [
    {
     "data": {
      "text/plain": [
       "0.020687430124711914"
      ]
     },
     "execution_count": 68,
     "metadata": {},
     "output_type": "execute_result"
    }
   ],
   "source": [
    "np.dot(weights.T, np.dot(mrets.cov() * 12, weights))\n",
    "## expected portfolio variance"
   ]
  },
  {
   "cell_type": "code",
   "execution_count": 69,
   "metadata": {},
   "outputs": [
    {
     "data": {
      "text/plain": [
       "0.1438312557294551"
      ]
     },
     "execution_count": 69,
     "metadata": {},
     "output_type": "execute_result"
    }
   ],
   "source": [
    "np.sqrt(np.dot(weights.T, np.dot(mrets.cov() * 12, weights)))\n",
    "#portfolio standard dev."
   ]
  },
  {
   "cell_type": "code",
   "execution_count": 70,
   "metadata": {},
   "outputs": [],
   "source": [
    "prets = []\n",
    "pvols = []\n",
    "for p in range (5000):\n",
    "    weights = np.random.random(noa)\n",
    "    weights /= np.sum(weights)\n",
    "    prets.append(np.sum(mrets.mean() * weights) * 12)\n",
    "    pvols.append(np.sqrt(np.dot(weights.T, \n",
    "                        np.dot(mrets.cov() * 12, weights))))"
   ]
  },
  {
   "cell_type": "code",
   "execution_count": 71,
   "metadata": {},
   "outputs": [],
   "source": [
    "prets = np.array(prets)\n",
    "pvols = np.array(pvols)"
   ]
  },
  {
   "cell_type": "code",
   "execution_count": 72,
   "metadata": {},
   "outputs": [
    {
     "data": {
      "text/plain": [
       "<matplotlib.colorbar.Colorbar at 0x1a1ee59e48>"
      ]
     },
     "execution_count": 72,
     "metadata": {},
     "output_type": "execute_result"
    },
    {
     "data": {
      "image/png": "[encoded data removed]",
      "text/plain": [
       "<Figure size 576x288 with 2 Axes>"
      ]
     },
     "metadata": {
      "needs_background": "light"
     },
     "output_type": "display_data"
    }
   ],
   "source": [
    "plt.figure(figsize=(8, 4)) #figure size\n",
    "plt.scatter(pvols, prets, c=prets / pvols, marker='o') \n",
    "plt.grid(True)\n",
    "plt.xlabel('expected volatility')\n",
    "plt.ylabel('expected return')\n",
    "plt.colorbar(label='Sharpe ratio')"
   ]
  },
  {
   "cell_type": "code",
   "execution_count": 73,
   "metadata": {},
   "outputs": [],
   "source": [
    "def statistics(weights):        \n",
    "    #==========\n",
    "    #weights : array-like \n",
    "    #weight for different securities  \n",
    "    # returns\n",
    "    #=======\n",
    "    #pret : float\n",
    "    #      exp portfolio return\n",
    "    #pvol : float\n",
    "    #      exp protfolio volatility\n",
    "    #pret / pvol : float\n",
    "    #    sharp ratio for rf = 0\n",
    "    weights = np.array(weights)\n",
    "    pret = np.sum(mrets.mean() * weights) * 12\n",
    "    pvol = np.sqrt(np.dot(weights.T, np.dot(mrets.cov() * 12, weights)))\n",
    "    return np.array([pret, pvol, pret / pvol])"
   ]
  },
  {
   "cell_type": "code",
   "execution_count": 74,
   "metadata": {},
   "outputs": [],
   "source": [
    "import scipy.optimize as sco"
   ]
  },
  {
   "cell_type": "code",
   "execution_count": 75,
   "metadata": {},
   "outputs": [],
   "source": [
    "def min_func_sharpe(weights):\n",
    "    return -statistics(weights)[2]"
   ]
  },
  {
   "cell_type": "code",
   "execution_count": 76,
   "metadata": {},
   "outputs": [],
   "source": [
    "cons = ({'type': 'eq', 'fun': lambda x:  np.sum(x) - 1})"
   ]
  },
  {
   "cell_type": "code",
   "execution_count": 77,
   "metadata": {},
   "outputs": [],
   "source": [
    "bnds = tuple((0, 1) for x in range(noa))"
   ]
  },
  {
   "cell_type": "code",
   "execution_count": 78,
   "metadata": {},
   "outputs": [
    {
     "data": {
      "text/plain": [
       "[0.02,\n",
       " 0.02,\n",
       " 0.02,\n",
       " 0.02,\n",
       " 0.02,\n",
       " 0.02,\n",
       " 0.02,\n",
       " 0.02,\n",
       " 0.02,\n",
       " 0.02,\n",
       " 0.02,\n",
       " 0.02,\n",
       " 0.02,\n",
       " 0.02,\n",
       " 0.02,\n",
       " 0.02,\n",
       " 0.02,\n",
       " 0.02,\n",
       " 0.02,\n",
       " 0.02,\n",
       " 0.02,\n",
       " 0.02,\n",
       " 0.02,\n",
       " 0.02,\n",
       " 0.02,\n",
       " 0.02,\n",
       " 0.02,\n",
       " 0.02,\n",
       " 0.02,\n",
       " 0.02,\n",
       " 0.02,\n",
       " 0.02,\n",
       " 0.02,\n",
       " 0.02,\n",
       " 0.02,\n",
       " 0.02,\n",
       " 0.02,\n",
       " 0.02,\n",
       " 0.02,\n",
       " 0.02,\n",
       " 0.02,\n",
       " 0.02,\n",
       " 0.02,\n",
       " 0.02,\n",
       " 0.02,\n",
       " 0.02,\n",
       " 0.02,\n",
       " 0.02,\n",
       " 0.02,\n",
       " 0.02]"
      ]
     },
     "execution_count": 78,
     "metadata": {},
     "output_type": "execute_result"
    }
   ],
   "source": [
    "noa*[1. / noa,]"
   ]
  },
  {
   "cell_type": "code",
   "execution_count": 79,
   "metadata": {},
   "outputs": [],
   "source": [
    "opts = sco.minimize(min_func_sharpe, noa * [1. / noa,], method='SLSQP', bounds=bnds, constraints=cons)"
   ]
  },
  {
   "cell_type": "code",
   "execution_count": 80,
   "metadata": {},
   "outputs": [
    {
     "data": {
      "text/plain": [
       "array([0.   , 0.   , 0.   , 0.   , 0.028, 0.   , 0.   , 0.   , 0.106,\n",
       "       0.009, 0.   , 0.   , 0.   , 0.   , 0.   , 0.   , 0.   , 0.   ,\n",
       "       0.   , 0.   , 0.178, 0.   , 0.035, 0.07 , 0.   , 0.006, 0.   ,\n",
       "       0.   , 0.065, 0.   , 0.   , 0.   , 0.   , 0.019, 0.   , 0.053,\n",
       "       0.012, 0.   , 0.   , 0.   , 0.   , 0.06 , 0.   , 0.   , 0.   ,\n",
       "       0.042, 0.02 , 0.   , 0.145, 0.153])"
      ]
     },
     "execution_count": 80,
     "metadata": {},
     "output_type": "execute_result"
    }
   ],
   "source": [
    "opts['x'].round(3)"
   ]
  },
  {
   "cell_type": "code",
   "execution_count": 81,
   "metadata": {},
   "outputs": [
    {
     "data": {
      "text/plain": [
       "array([0.27 , 0.115, 2.349])"
      ]
     },
     "execution_count": 81,
     "metadata": {},
     "output_type": "execute_result"
    }
   ],
   "source": [
    "statistics(opts['x']).round(3)\n",
    "# expected return, std, max sharp ratio"
   ]
  },
  {
   "cell_type": "code",
   "execution_count": 82,
   "metadata": {},
   "outputs": [],
   "source": [
    "def min_func_variance(weights):\n",
    "    return statistics(weights)[1] ** 2"
   ]
  },
  {
   "cell_type": "code",
   "execution_count": 83,
   "metadata": {},
   "outputs": [],
   "source": [
    "optv = sco.minimize(min_func_variance, noa * [1. / noa,], method='SLSQP', bounds=bnds, constraints=cons)"
   ]
  },
  {
   "cell_type": "code",
   "execution_count": 84,
   "metadata": {},
   "outputs": [
    {
     "data": {
      "text/plain": [
       "array([0.   , 0.   , 0.064, 0.079, 0.04 , 0.   , 0.   , 0.243, 0.008,\n",
       "       0.074, 0.   , 0.112, 0.   , 0.   , 0.   , 0.   , 0.   , 0.   ,\n",
       "       0.011, 0.   , 0.125, 0.   , 0.   , 0.081, 0.087, 0.   , 0.   ,\n",
       "       0.026, 0.042, 0.   , 0.   , 0.   , 0.   , 0.   , 0.   , 0.   ,\n",
       "       0.   , 0.   , 0.004, 0.002, 0.   , 0.002, 0.   , 0.   , 0.   ,\n",
       "       0.   , 0.   , 0.   , 0.   , 0.   ])"
      ]
     },
     "execution_count": 84,
     "metadata": {},
     "output_type": "execute_result"
    }
   ],
   "source": [
    "optv['x'].round(3)"
   ]
  },
  {
   "cell_type": "code",
   "execution_count": 85,
   "metadata": {},
   "outputs": [
    {
     "data": {
      "text/plain": [
       "array([0.111, 0.082, 1.365])"
      ]
     },
     "execution_count": 85,
     "metadata": {},
     "output_type": "execute_result"
    }
   ],
   "source": [
    "statistics(optv['x']).round(3)\n",
    "# for min-variance expected return, std, sharp ratio"
   ]
  },
  {
   "cell_type": "code",
   "execution_count": 86,
   "metadata": {},
   "outputs": [],
   "source": [
    "cons = ({'type': 'eq', 'fun': lambda x:  statistics(x)[0] - tret},\n",
    "        {'type': 'eq', 'fun': lambda x:  np.sum(x) - 1})\n",
    "bnds = tuple((0, 1) for x in weights)"
   ]
  },
  {
   "cell_type": "code",
   "execution_count": 87,
   "metadata": {},
   "outputs": [],
   "source": [
    "def min_func_port(weights):\n",
    "    return statistics(weights)[1]"
   ]
  },
  {
   "cell_type": "code",
   "execution_count": 88,
   "metadata": {},
   "outputs": [],
   "source": [
    "trets = np.linspace(0.05, 0.23, 30)\n",
    "tvols = []\n",
    "for tret in trets:\n",
    "    cons = ({'type': 'eq', 'fun': lambda x:  statistics(x)[0] - tret},\n",
    "            {'type': 'eq', 'fun': lambda x:  np.sum(x) - 1})\n",
    "    res = sco.minimize(min_func_port, noa * [1. / noa,], method='SLSQP',\n",
    "                       bounds=bnds, constraints=cons)\n",
    "    tvols.append(res['fun'])\n",
    "tvols = np.array(tvols)"
   ]
  },
  {
   "cell_type": "code",
   "execution_count": 89,
   "metadata": {},
   "outputs": [
    {
     "data": {
      "text/plain": [
       "<matplotlib.colorbar.Colorbar at 0x1a1fa56780>"
      ]
     },
     "execution_count": 89,
     "metadata": {},
     "output_type": "execute_result"
    },
    {
     "data": {
      "image/png": "[encoded data removed]",
      "text/plain": [
       "<Figure size 648x360 with 2 Axes>"
      ]
     },
     "metadata": {
      "needs_background": "light"
     },
     "output_type": "display_data"
    }
   ],
   "source": [
    "plt.figure(figsize=(9, 5))\n",
    "#Scatter as random portfolio\n",
    "plt.scatter(pvols, prets,\n",
    "            c=prets / prets, marker='o')\n",
    "#x as efficient frontier           \n",
    "plt.scatter(tvols, trets,\n",
    "            c=trets / tvols, marker='x')\n",
    "#red star as max Sharp ratio           \n",
    "plt.plot(statistics(opts['x'])[1], statistics(opts['x'])[0],\n",
    "         'r*', markersize=15.0)\n",
    "#yellow star as min Variance Portfolio        \n",
    "plt.plot(statistics(optv['x'])[1], statistics(optv['x'])[0],\n",
    "         'y*', markersize=15.0)          \n",
    "plt.grid(True)\n",
    "plt.xlabel('expected volatility')\n",
    "plt.ylabel('expected return')\n",
    "plt.colorbar(label='Sharpe ratio')"
   ]
  },
  {
   "cell_type": "code",
   "execution_count": 91,
   "metadata": {},
   "outputs": [],
   "source": [
    "import scipy.interpolate as sci"
   ]
  },
  {
   "cell_type": "code",
   "execution_count": 92,
   "metadata": {},
   "outputs": [],
   "source": [
    "# to get the point of upper half\n",
    "ind = np.argmin(tvols)\n",
    "evols = tvols[ind:]\n",
    "erets = trets[ind:]"
   ]
  },
  {
   "cell_type": "code",
   "execution_count": 93,
   "metadata": {},
   "outputs": [],
   "source": [
    "# add functions\n",
    "tck = sci.splrep(evols, erets)"
   ]
  },
  {
   "cell_type": "code",
   "execution_count": 94,
   "metadata": {},
   "outputs": [],
   "source": [
    "# Efficient frontier function\n",
    "def f(x):\n",
    "    return sci.splev(x, tck, der=0)\n",
    "# first derivative for EF\n",
    "def df(x):\n",
    "    return sci.splev(x, tck, der=1)"
   ]
  },
  {
   "cell_type": "code",
   "execution_count": 95,
   "metadata": {},
   "outputs": [],
   "source": [
    "#ASSUME rf = 0.02 ###need get it right####\n",
    "def equations(p, rf=0.02):\n",
    "    eq1 = rf - p[0]\n",
    "    eq2 = rf + p[1] * p[2] - f(p[2])\n",
    "    eq3 = p[1] - df(p[2])\n",
    "    return eq1, eq2, eq3"
   ]
  },
  {
   "cell_type": "code",
   "execution_count": 96,
   "metadata": {},
   "outputs": [
    {
     "name": "stderr",
     "output_type": "stream",
     "text": [
      "/anaconda3/lib/python3.7/site-packages/scipy/optimize/minpack.py:163: RuntimeWarning: The iteration is not making good progress, as measured by the \n",
      "  improvement from the last ten iterations.\n",
      "  warnings.warn(msg, RuntimeWarning)\n"
     ]
    }
   ],
   "source": [
    "# solve the function\n",
    "opt = sco.fsolve(equations, [0.02, 0.004, 0.5])"
   ]
  },
  {
   "cell_type": "code",
   "execution_count": 97,
   "metadata": {},
   "outputs": [
    {
     "data": {
      "text/plain": [
       "array([0.02      , 3.03177774, 0.10671219])"
      ]
     },
     "execution_count": 97,
     "metadata": {},
     "output_type": "execute_result"
    }
   ],
   "source": [
    "# get a,b,x close to the red star\n",
    "opt"
   ]
  },
  {
   "cell_type": "code",
   "execution_count": 98,
   "metadata": {},
   "outputs": [
    {
     "data": {
      "text/plain": [
       "array([ 0.      ,  0.093595, -0.009988])"
      ]
     },
     "execution_count": 98,
     "metadata": {},
     "output_type": "execute_result"
    }
   ],
   "source": [
    "#check if close to 0\n",
    "np.round(equations(opt),6)"
   ]
  },
  {
   "cell_type": "code",
   "execution_count": 99,
   "metadata": {},
   "outputs": [
    {
     "data": {
      "text/plain": [
       "<matplotlib.colorbar.Colorbar at 0x1a1ee47eb8>"
      ]
     },
     "execution_count": 99,
     "metadata": {},
     "output_type": "execute_result"
    },
    {
     "data": {
      "image/png": "[encoded data removed]",
      "text/plain": [
       "<Figure size 576x360 with 2 Axes>"
      ]
     },
     "metadata": {
      "needs_background": "light"
     },
     "output_type": "display_data"
    }
   ],
   "source": [
    "plt.figure(figsize=(8, 5))\n",
    "\n",
    "plt.scatter(pvols, prets,\n",
    "            c=(prets - 0.02) / pvols, marker='o')\n",
    "#green line is efficient frontier\n",
    "plt.plot(evols, erets, 'g', lw=4.0)\n",
    "\n",
    "#assume CML from 0 to 0.6           \n",
    "cml_x = np.linspace(0.0, 0.6)\n",
    "#plot\n",
    "plt.plot(cml_x, opt[0] + opt[1] * cml_x, lw=1.5)\n",
    "# red star is tangent point           \n",
    "plt.plot(opt[2], f(opt[2]), 'r*', markersize=15.0) \n",
    "plt.grid(True)\n",
    "plt.axhline(0, color='k', ls='--', lw=2.0)\n",
    "plt.axvline(0, color='k', ls='--', lw=2.0)\n",
    "plt.xlabel('expected volatility')\n",
    "plt.ylabel('expected return')\n",
    "plt.colorbar(label='Sharpe ratio')"
   ]
  },
  {
   "cell_type": "code",
   "execution_count": null,
   "metadata": {},
   "outputs": [],
   "source": []
  }
 ],
 "metadata": {
  "kernelspec": {
   "display_name": "Python 3",
   "language": "python",
   "name": "python3"
  },
  "language_info": {
   "codemirror_mode": {
    "name": "ipython",
    "version": 3
   },
   "file_extension": ".py",
   "mimetype": "text/x-python",
   "name": "python",
   "nbconvert_exporter": "python",
   "pygments_lexer": "ipython3",
   "version": "3.7.1"
  }
 },
 "nbformat": 4,
 "nbformat_minor": 2
}
